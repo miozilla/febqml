{
 "cells": [
  {
   "cell_type": "code",
   "execution_count": 1,
   "id": "2f49431e-31a6-4722-81b8-901761209a5d",
   "metadata": {},
   "outputs": [
    {
     "name": "stdout",
     "output_type": "stream",
     "text": [
      "Cloning into 'training-data-analyst'...\n",
      "remote: Enumerating objects: 65984, done.\u001b[K\n",
      "remote: Counting objects: 100% (32/32), done.\u001b[K\n",
      "remote: Compressing objects: 100% (23/23), done.\u001b[K\n",
      "remote: Total 65984 (delta 20), reused 9 (delta 9), pack-reused 65952 (from 3)\u001b[K\n",
      "Receiving objects: 100% (65984/65984), 698.46 MiB | 5.20 MiB/s, done.\n",
      "Resolving deltas: 100% (42193/42193), done.\n",
      "Updating files: 100% (12892/12892), done.\n"
     ]
    }
   ],
   "source": [
    "!git clone https://github.com/GoogleCloudPlatform/training-data-analyst"
   ]
  }
 ],
 "metadata": {
  "environment": {
   "kernel": "conda-base-py",
   "name": "workbench-notebooks.m130",
   "type": "gcloud",
   "uri": "us-docker.pkg.dev/deeplearning-platform-release/gcr.io/workbench-notebooks:m130"
  },
  "kernelspec": {
   "display_name": "Python 3 (ipykernel) (Local)",
   "language": "python",
   "name": "conda-base-py"
  },
  "language_info": {
   "codemirror_mode": {
    "name": "ipython",
    "version": 3
   },
   "file_extension": ".py",
   "mimetype": "text/x-python",
   "name": "python",
   "nbconvert_exporter": "python",
   "pygments_lexer": "ipython3",
   "version": "3.10.18"
  }
 },
 "nbformat": 4,
 "nbformat_minor": 5
}
